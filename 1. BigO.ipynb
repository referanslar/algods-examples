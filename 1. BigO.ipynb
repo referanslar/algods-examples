{
 "cells": [
  {
   "cell_type": "code",
   "execution_count": null,
   "id": "e0939d98-a461-4db7-88c0-3395be057509",
   "metadata": {},
   "outputs": [],
   "source": [
    "# https://www.bigocheatsheet.com/"
   ]
  },
  {
   "cell_type": "code",
   "execution_count": null,
   "id": "ceee1175-38fc-44bc-9136-9e9659e310fd",
   "metadata": {},
   "outputs": [],
   "source": [
    "def big_o_n(n):\n",
    "    \"\"\"\n",
    "    Demonstrates O(n) time complexity.\n",
    "    Prints numbers from 0 to n-1.\n",
    "    \n",
    "    :param n: Upper bound of the range (exclusive)\n",
    "    \"\"\"\n",
    "    for i in range(0, n):\n",
    "        print(i)"
   ]
  },
  {
   "cell_type": "code",
   "execution_count": null,
   "id": "765fb669-dc99-4462-b3b4-96de08581ebe",
   "metadata": {},
   "outputs": [],
   "source": [
    "big_o_n(5)"
   ]
  },
  {
   "cell_type": "code",
   "execution_count": null,
   "id": "dd717418-0092-44cf-85f1-5f4e820a4b8a",
   "metadata": {},
   "outputs": [],
   "source": [
    "def big_o_n_squared(n):\n",
    "    \"\"\"\n",
    "    Demonstrates O(n^2) time complexity.\n",
    "    Prints pairs of numbers (i, j) where both i and j range from 0 to n-1.\n",
    "    \n",
    "    :param n: Upper bound of both ranges (exclusive)\n",
    "    \"\"\"\n",
    "    for i in range(0, n):\n",
    "        for j in range(0, n):\n",
    "            print(i, j)"
   ]
  },
  {
   "cell_type": "code",
   "execution_count": null,
   "id": "2dbb4316-a4fa-462b-8926-d11062d7dba0",
   "metadata": {},
   "outputs": [],
   "source": [
    "big_o_n_squared(5)"
   ]
  },
  {
   "cell_type": "code",
   "execution_count": null,
   "id": "3c09aa60-c2ff-47ce-b1d3-c90d2e8e4451",
   "metadata": {},
   "outputs": [],
   "source": [
    "def big_o_n_cubed(n):\n",
    "    \"\"\"\n",
    "    Demonstrates O(n^3) time complexity.\n",
    "    Prints triples of numbers (i, j, k) where i, j, and k each range from 0 to n-1.\n",
    "    \n",
    "    :param n: Upper bound of all three ranges (exclusive)\n",
    "    \"\"\"\n",
    "    for i in range(0, n):\n",
    "        for j in range(0, n):\n",
    "            for k in range(0, n):\n",
    "                print(i, j, k)"
   ]
  },
  {
   "cell_type": "code",
   "execution_count": null,
   "id": "43eda074-4657-475b-83c0-a28161f07cd7",
   "metadata": {},
   "outputs": [],
   "source": [
    "big_o_n_cubed(5)"
   ]
  },
  {
   "cell_type": "code",
   "execution_count": null,
   "id": "65465974-114e-4ace-a38b-fd3f10548025",
   "metadata": {},
   "outputs": [],
   "source": [
    "import math\n",
    "\n",
    "def logarithmic_n(n):\n",
    "    \"\"\"\n",
    "    Demonstrates O(log n) time complexity.\n",
    "    Repeatedly divides n by 2 and prints the result until n is 1 or less.\n",
    "    \n",
    "    :param n: Starting number\n",
    "    \"\"\"\n",
    "    while n > 1:\n",
    "        n = math.floor(n / 2)\n",
    "        print(n)"
   ]
  },
  {
   "cell_type": "code",
   "execution_count": null,
   "id": "c34ff949-a168-4609-af9e-8ddf1a2ee8b5",
   "metadata": {},
   "outputs": [],
   "source": [
    "logarithmic_n(84)"
   ]
  },
  {
   "cell_type": "code",
   "execution_count": null,
   "id": "5b17a7d6-9d2a-4aad-9331-100876ad8920",
   "metadata": {},
   "outputs": [],
   "source": [
    "import math\n",
    "\n",
    "def n_log_n(n):\n",
    "    \"\"\"\n",
    "    Demonstrates O(n log n) time complexity.\n",
    "    Combines a linear operation with a logarithmic operation.\n",
    "    \n",
    "    :param n: Upper bound for the linear operation and starting point for the logarithmic operation\n",
    "    \"\"\"\n",
    "    limit = n\n",
    "    while n > 1:\n",
    "        n = math.floor(n / 2)\n",
    "        for i in range(1, limit):\n",
    "            print(i)"
   ]
  },
  {
   "cell_type": "code",
   "execution_count": null,
   "id": "71ec6bff-8926-458a-b975-101e2d6867b7",
   "metadata": {},
   "outputs": [],
   "source": [
    "n_log_n(16)"
   ]
  },
  {
   "cell_type": "code",
   "execution_count": null,
   "id": "75d64c83-6105-49de-9d70-e79d97bbf6ea",
   "metadata": {},
   "outputs": [],
   "source": [
    "def n_factorial(n):\n",
    "    \"\"\"\n",
    "    Demonstrates O(n!) time complexity.\n",
    "    Recursively generates all permutations of n elements.\n",
    "    Note: This function is highly inefficient for large n.\n",
    "    \n",
    "    :param n: Number of elements\n",
    "    \"\"\"\n",
    "    if n == 0:\n",
    "        print(1)\n",
    "        return\n",
    "    else:\n",
    "        for i in range(0, n):\n",
    "            print(i)  # debug\n",
    "            n_factorial(n - 1)  # recursive"
   ]
  },
  {
   "cell_type": "code",
   "execution_count": null,
   "id": "3bb69fce-0b37-462d-9d31-b243015626f4",
   "metadata": {},
   "outputs": [],
   "source": [
    "n_factorial(5)"
   ]
  },
  {
   "cell_type": "code",
   "execution_count": null,
   "id": "e6504293-dfab-4913-b7f7-e086179bef8c",
   "metadata": {},
   "outputs": [],
   "source": [
    "counter = 0\n",
    "\n",
    "def calculate_factorial(n):\n",
    "    \"\"\"\n",
    "    Calculates the factorial of n.\n",
    "    This function has O(n) time complexity.\n",
    "    \n",
    "    :param n: Number to calculate factorial for\n",
    "    :return: Factorial of n\n",
    "    \"\"\"\n",
    "    global counter\n",
    "    counter += 1\n",
    "    print(counter)\n",
    "    if n == 1 or n == 0:\n",
    "        return 1\n",
    "    else:\n",
    "        return n * calculate_factorial(n - 1)"
   ]
  },
  {
   "cell_type": "code",
   "execution_count": null,
   "id": "1119a9c3-87de-4eb1-905a-45c80c65e3a3",
   "metadata": {},
   "outputs": [],
   "source": [
    "calculate_factorial(8)"
   ]
  }
 ],
 "metadata": {
  "kernelspec": {
   "display_name": "Python 3 (ipykernel)",
   "language": "python",
   "name": "python3"
  },
  "language_info": {
   "codemirror_mode": {
    "name": "ipython",
    "version": 3
   },
   "file_extension": ".py",
   "mimetype": "text/x-python",
   "name": "python",
   "nbconvert_exporter": "python",
   "pygments_lexer": "ipython3",
   "version": "3.11.7"
  }
 },
 "nbformat": 4,
 "nbformat_minor": 5
}
