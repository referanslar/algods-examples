{
 "cells": [
  {
   "cell_type": "code",
   "execution_count": 1,
   "id": "0acc489a-4c06-4cc4-9b62-c87fc724be7a",
   "metadata": {},
   "outputs": [],
   "source": [
    "# Array, List, Stack, Queue, Deque"
   ]
  },
  {
   "cell_type": "code",
   "execution_count": 2,
   "id": "a9f8f9af-f340-446c-aa49-55d9c2210400",
   "metadata": {},
   "outputs": [],
   "source": [
    "# Array\n",
    "import array as arr"
   ]
  },
  {
   "cell_type": "code",
   "execution_count": 3,
   "id": "02152de7-5926-4186-b59a-e5acd0cd70b5",
   "metadata": {},
   "outputs": [],
   "source": [
    "my_array = arr.array(\"i\", [3, 6, 9, 12])"
   ]
  },
  {
   "cell_type": "code",
   "execution_count": 4,
   "id": "d127f665-bda3-4ae6-b51c-374459e9bbd1",
   "metadata": {},
   "outputs": [
    {
     "data": {
      "text/plain": [
       "3"
      ]
     },
     "execution_count": 4,
     "metadata": {},
     "output_type": "execute_result"
    }
   ],
   "source": [
    "my_array[0]"
   ]
  },
  {
   "cell_type": "code",
   "execution_count": 5,
   "id": "cf435c89-dde5-43f2-b664-77edcdf235e8",
   "metadata": {},
   "outputs": [
    {
     "name": "stdout",
     "output_type": "stream",
     "text": [
      "[0, 0, 0, 0, 0, 0, 0, 0] <class 'list'>\n"
     ]
    }
   ],
   "source": [
    "# List\n",
    "result = [0] * 8\n",
    "print(result, type(result))"
   ]
  },
  {
   "cell_type": "code",
   "execution_count": 6,
   "id": "4e4ece2f-771f-4341-aa9a-5eaa6e5e50d0",
   "metadata": {},
   "outputs": [],
   "source": [
    "my_list = [1, 2, 3, 4, 5]"
   ]
  },
  {
   "cell_type": "code",
   "execution_count": 7,
   "id": "8c046811-eeec-446e-bd63-5506b5d23330",
   "metadata": {},
   "outputs": [],
   "source": [
    "my_list.append(6)"
   ]
  },
  {
   "cell_type": "code",
   "execution_count": 8,
   "id": "ce9bec17-8b50-43ac-8e06-570a6b55a3a5",
   "metadata": {},
   "outputs": [],
   "source": [
    "my_list2 = [7, 8]"
   ]
  },
  {
   "cell_type": "code",
   "execution_count": 9,
   "id": "819ab01b-a8c7-4df3-9650-ed327632b108",
   "metadata": {},
   "outputs": [],
   "source": [
    "my_list.extend(my_list2)"
   ]
  },
  {
   "cell_type": "code",
   "execution_count": 10,
   "id": "e2d47e02-627b-4e70-9754-330f3c4c314a",
   "metadata": {},
   "outputs": [
    {
     "data": {
      "text/plain": [
       "[1, 2, 3, 4, 5, 6, 7, 8]"
      ]
     },
     "execution_count": 10,
     "metadata": {},
     "output_type": "execute_result"
    }
   ],
   "source": [
    "my_list"
   ]
  },
  {
   "cell_type": "code",
   "execution_count": 11,
   "id": "87daf8ab-7a8c-4e7b-863e-fcd8df85347b",
   "metadata": {},
   "outputs": [],
   "source": [
    "import sys"
   ]
  },
  {
   "cell_type": "code",
   "execution_count": 12,
   "id": "fc809310-591c-455f-b4f6-ca55d3d845f0",
   "metadata": {},
   "outputs": [
    {
     "name": "stdout",
     "output_type": "stream",
     "text": [
      "Length: 0 - Byte: 56\n",
      "Length: 1 - Byte: 88\n",
      "Length: 2 - Byte: 88\n",
      "Length: 3 - Byte: 88\n",
      "Length: 4 - Byte: 88\n",
      "Length: 5 - Byte: 120\n",
      "Length: 6 - Byte: 120\n",
      "Length: 7 - Byte: 120\n",
      "Length: 8 - Byte: 120\n",
      "Length: 9 - Byte: 184\n",
      "Length: 10 - Byte: 184\n",
      "Length: 11 - Byte: 184\n",
      "Length: 12 - Byte: 184\n",
      "Length: 13 - Byte: 184\n",
      "Length: 14 - Byte: 184\n",
      "Length: 15 - Byte: 184\n",
      "Length: 16 - Byte: 184\n",
      "Length: 17 - Byte: 248\n",
      "Length: 18 - Byte: 248\n",
      "Length: 19 - Byte: 248\n",
      "Length: 20 - Byte: 248\n",
      "Length: 21 - Byte: 248\n",
      "Length: 22 - Byte: 248\n",
      "Length: 23 - Byte: 248\n",
      "Length: 24 - Byte: 248\n",
      "Length: 25 - Byte: 312\n",
      "Length: 26 - Byte: 312\n",
      "Length: 27 - Byte: 312\n",
      "Length: 28 - Byte: 312\n",
      "Length: 29 - Byte: 312\n"
     ]
    }
   ],
   "source": [
    "n = 30\n",
    "dynamic_array = []\n",
    "\n",
    "for i in range(0, n):\n",
    "    my_length = len(dynamic_array)\n",
    "    my_byte = sys.getsizeof(dynamic_array)\n",
    "    print(f\"Length: {my_length} - Byte: {my_byte}\")\n",
    "    dynamic_array.append(n)\n"
   ]
  }
 ],
 "metadata": {
  "kernelspec": {
   "display_name": "Python 3 (ipykernel)",
   "language": "python",
   "name": "python3"
  },
  "language_info": {
   "codemirror_mode": {
    "name": "ipython",
    "version": 3
   },
   "file_extension": ".py",
   "mimetype": "text/x-python",
   "name": "python",
   "nbconvert_exporter": "python",
   "pygments_lexer": "ipython3",
   "version": "3.11.7"
  }
 },
 "nbformat": 4,
 "nbformat_minor": 5
}
