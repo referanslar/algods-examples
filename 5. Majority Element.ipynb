{
 "cells": [
  {
   "cell_type": "code",
   "execution_count": 1,
   "id": "343f14b9-bf2b-4246-adf2-cf98cee7f597",
   "metadata": {},
   "outputs": [],
   "source": [
    "# https://leetcode.com/problems/majority-element\n",
    "\n",
    "from typing import List\n",
    "import ipytest\n",
    "\n",
    "ipytest.autoconfig()\n",
    "\n",
    "class Solution:\n",
    "    def majorityElement(self, nums: List[int]) -> int:\n",
    "\n",
    "        nums_dict = {}\n",
    "        \n",
    "        for num in set(nums):\n",
    "            nums_dict[num] = nums.count(num)\n",
    "                \n",
    "        return max(nums_dict, key=nums_dict.get)"
   ]
  },
  {
   "cell_type": "code",
   "execution_count": 2,
   "id": "c7dd958f-c118-43d7-8ac1-7583449efd4f",
   "metadata": {},
   "outputs": [
    {
     "name": "stdout",
     "output_type": "stream",
     "text": [
      "\u001b[1m======================================= test session starts ========================================\u001b[0m\n",
      "platform darwin -- Python 3.11.7, pytest-7.4.0, pluggy-1.0.0 -- /opt/anaconda3/bin/python\n",
      "cachedir: .pytest_cache\n",
      "rootdir: /Users/namesurname/Desktop/algods-examples\n",
      "plugins: anyio-4.2.0\n",
      "\u001b[1mcollecting ... \u001b[0mcollected 2 items\n",
      "\n",
      "t_e604f552236a494eb32994a955462b82.py::test_case \u001b[32mPASSED\u001b[0m\u001b[32m                                      [ 50%]\u001b[0m\n",
      "t_e604f552236a494eb32994a955462b82.py::test_case_2 \u001b[32mPASSED\u001b[0m\u001b[32m                                    [100%]\u001b[0m\n",
      "\n",
      "\u001b[32m======================================== \u001b[32m\u001b[1m2 passed\u001b[0m\u001b[32m in 0.01s\u001b[0m\u001b[32m =========================================\u001b[0m\n"
     ]
    },
    {
     "data": {
      "text/plain": [
       "<ExitCode.OK: 0>"
      ]
     },
     "execution_count": 2,
     "metadata": {},
     "output_type": "execute_result"
    }
   ],
   "source": [
    "solution = Solution()\n",
    "\n",
    "def test_case():     assert solution.majorityElement([3,2,3]) == 3\n",
    "def test_case_2():   assert solution.majorityElement([2,2,1,1,1,2,2]) == 2\n",
    "\n",
    "ipytest.run('-vv')"
   ]
  },
  {
   "cell_type": "code",
   "execution_count": 3,
   "id": "231b02f2-ac57-46a1-8f38-89864079929e",
   "metadata": {},
   "outputs": [],
   "source": [
    "# Solution2 (Boyer–Moore Majority)\n",
    "\n",
    "class Solution2:\n",
    "    def majorityElement(self, nums: List[int]) -> int:\n",
    "\n",
    "        result = 0\n",
    "        count = 0\n",
    "        \n",
    "        for num in nums:\n",
    "            if count == 0:\n",
    "                result = num\n",
    "\n",
    "            count += 1 if num == result else -1\n",
    "            \n",
    "        return result"
   ]
  },
  {
   "cell_type": "code",
   "execution_count": 4,
   "id": "a5a65fc4-6931-4d4c-b739-e85472c99b0c",
   "metadata": {},
   "outputs": [
    {
     "data": {
      "text/plain": [
       "2"
      ]
     },
     "execution_count": 4,
     "metadata": {},
     "output_type": "execute_result"
    }
   ],
   "source": [
    "Solution2().majorityElement([2,2,1,1,1,2,2])"
   ]
  },
  {
   "cell_type": "code",
   "execution_count": null,
   "id": "2aa0cba7-6dd1-43e5-a2d4-a9a71eb8e1de",
   "metadata": {},
   "outputs": [],
   "source": []
  }
 ],
 "metadata": {
  "kernelspec": {
   "display_name": "Python 3 (ipykernel)",
   "language": "python",
   "name": "python3"
  },
  "language_info": {
   "codemirror_mode": {
    "name": "ipython",
    "version": 3
   },
   "file_extension": ".py",
   "mimetype": "text/x-python",
   "name": "python",
   "nbconvert_exporter": "python",
   "pygments_lexer": "ipython3",
   "version": "3.11.7"
  }
 },
 "nbformat": 4,
 "nbformat_minor": 5
}
