{
 "cells": [
  {
   "cell_type": "code",
   "execution_count": 1,
   "id": "c081995c-257e-4b3d-a881-f50a33fd0e78",
   "metadata": {},
   "outputs": [],
   "source": [
    "# https://leetcode.com/problems/intersection-of-two-linked-lists"
   ]
  },
  {
   "cell_type": "code",
   "execution_count": 3,
   "id": "57dc3d54-9ed1-40aa-a72f-f47634718907",
   "metadata": {},
   "outputs": [],
   "source": [
    "from typing import Optional\n",
    "\n",
    "# Definition for singly-linked list.\n",
    "class ListNode:\n",
    "    def __init__(self, x):\n",
    "        self.val = x\n",
    "        self.next = None\n",
    "\n",
    "# Solution\n",
    "class Solution:\n",
    "    def getIntersectionNode(self, headA: ListNode, headB: ListNode) -> Optional[ListNode]:\n",
    "        firstPointer = headA\n",
    "        secondPointer = headB\n",
    "\n",
    "        while firstPointer != secondPointer:\n",
    "            firstPointer = firstPointer.next if firstPointer != None else headB\n",
    "            secondPointer = secondPointer.next if secondPointer != None else headA\n",
    "\n",
    "        return firstPointer"
   ]
  },
  {
   "cell_type": "code",
   "execution_count": null,
   "id": "8109f836-5da5-475e-8b9e-8fd10922ebf2",
   "metadata": {},
   "outputs": [],
   "source": []
  }
 ],
 "metadata": {
  "kernelspec": {
   "display_name": "Python 3 (ipykernel)",
   "language": "python",
   "name": "python3"
  },
  "language_info": {
   "codemirror_mode": {
    "name": "ipython",
    "version": 3
   },
   "file_extension": ".py",
   "mimetype": "text/x-python",
   "name": "python",
   "nbconvert_exporter": "python",
   "pygments_lexer": "ipython3",
   "version": "3.11.7"
  }
 },
 "nbformat": 4,
 "nbformat_minor": 5
}
