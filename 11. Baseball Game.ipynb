{
 "cells": [
  {
   "cell_type": "code",
   "execution_count": 1,
   "id": "d018e2c2-d31a-47fb-964f-12217ca43cb7",
   "metadata": {},
   "outputs": [],
   "source": [
    "# https://leetcode.com/problems/baseball-game"
   ]
  },
  {
   "cell_type": "code",
   "execution_count": 2,
   "id": "d762eb20-54f5-470c-be69-6f3ae7553085",
   "metadata": {},
   "outputs": [],
   "source": [
    "from typing import List\n",
    "\n",
    "class Solution:\n",
    "    def calPoints(self, operations: List[str]) -> int:\n",
    "        points = []\n",
    "\n",
    "        for operation in operations:\n",
    "            if operation == \"C\":\n",
    "                points.pop()\n",
    "            elif operation == \"D\":\n",
    "                points.append(2 * int(points[-1]))\n",
    "            elif operation == \"+\":\n",
    "                points.append(int(points[-1]) + int(points[-2]))\n",
    "            else:\n",
    "                points.append(int(operation))\n",
    "\n",
    "        return sum(points)"
   ]
  },
  {
   "cell_type": "code",
   "execution_count": 3,
   "id": "ad74e6c2-ec81-4524-9505-1d7b939da700",
   "metadata": {},
   "outputs": [
    {
     "data": {
      "text/plain": [
       "30"
      ]
     },
     "execution_count": 3,
     "metadata": {},
     "output_type": "execute_result"
    }
   ],
   "source": [
    "Solution().calPoints([\"5\",\"2\",\"C\",\"D\",\"+\"]) # Output: 30"
   ]
  },
  {
   "cell_type": "code",
   "execution_count": 4,
   "id": "cff43cda-abad-4f4e-9c5a-b1759c58c00b",
   "metadata": {},
   "outputs": [
    {
     "data": {
      "text/plain": [
       "27"
      ]
     },
     "execution_count": 4,
     "metadata": {},
     "output_type": "execute_result"
    }
   ],
   "source": [
    "Solution().calPoints([\"5\",\"-2\",\"4\",\"C\",\"D\",\"9\",\"+\",\"+\"]) # Output: 27"
   ]
  },
  {
   "cell_type": "code",
   "execution_count": 5,
   "id": "4384fe65-9cb2-44a3-8c8f-f064b2dfe56e",
   "metadata": {},
   "outputs": [
    {
     "data": {
      "text/plain": [
       "0"
      ]
     },
     "execution_count": 5,
     "metadata": {},
     "output_type": "execute_result"
    }
   ],
   "source": [
    "Solution().calPoints([\"1\",\"C\"]) # Output: 0"
   ]
  },
  {
   "cell_type": "code",
   "execution_count": null,
   "id": "cef75d99-e661-483a-bdf8-52e5844c49f1",
   "metadata": {},
   "outputs": [],
   "source": []
  }
 ],
 "metadata": {
  "kernelspec": {
   "display_name": "Python 3 (ipykernel)",
   "language": "python",
   "name": "python3"
  },
  "language_info": {
   "codemirror_mode": {
    "name": "ipython",
    "version": 3
   },
   "file_extension": ".py",
   "mimetype": "text/x-python",
   "name": "python",
   "nbconvert_exporter": "python",
   "pygments_lexer": "ipython3",
   "version": "3.11.7"
  }
 },
 "nbformat": 4,
 "nbformat_minor": 5
}
