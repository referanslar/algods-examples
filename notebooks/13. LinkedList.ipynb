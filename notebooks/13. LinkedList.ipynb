{
 "cells": [
  {
   "cell_type": "code",
   "execution_count": 1,
   "id": "c3e77ba5-4b66-4a69-949b-e6652be441fa",
   "metadata": {},
   "outputs": [],
   "source": [
    "# Node -> Linked List"
   ]
  },
  {
   "cell_type": "code",
   "execution_count": 3,
   "id": "d54910f3-3651-4b24-9d72-ffdf3cde3ba0",
   "metadata": {},
   "outputs": [],
   "source": [
    "# Singly Linked List"
   ]
  },
  {
   "cell_type": "code",
   "execution_count": 5,
   "id": "dcaa9b33-9537-4ae3-88ae-9196c995be29",
   "metadata": {},
   "outputs": [],
   "source": [
    "class Node():\n",
    "    def __init__(self, value):\n",
    "        self.value = value\n",
    "        self.nextNode = None"
   ]
  },
  {
   "cell_type": "code",
   "execution_count": 7,
   "id": "b5f49b3e-38d6-498a-8abd-42b419b0e903",
   "metadata": {},
   "outputs": [],
   "source": [
    "firstNode = Node(10)"
   ]
  },
  {
   "cell_type": "code",
   "execution_count": 9,
   "id": "fdc6e2a6-a3ac-4ed0-adf5-6e86a355b5a8",
   "metadata": {},
   "outputs": [],
   "source": [
    "secondNode = Node(20)"
   ]
  },
  {
   "cell_type": "code",
   "execution_count": 11,
   "id": "434fddc3-2978-4746-82b6-73fbfbadb0b5",
   "metadata": {},
   "outputs": [],
   "source": [
    "thirdNode = Node(30)"
   ]
  },
  {
   "cell_type": "code",
   "execution_count": 15,
   "id": "80a850d3-9d90-42cd-816d-7743ee9bd7b1",
   "metadata": {},
   "outputs": [],
   "source": [
    "firstNode.nextNode = secondNode"
   ]
  },
  {
   "cell_type": "code",
   "execution_count": 17,
   "id": "19444285-db38-4fd7-97b8-5b13167efd61",
   "metadata": {},
   "outputs": [],
   "source": [
    "secondNode.nextNode = thirdNode"
   ]
  },
  {
   "cell_type": "code",
   "execution_count": 23,
   "id": "b289a8f5-1935-4d11-a804-e2f55add4736",
   "metadata": {},
   "outputs": [
    {
     "data": {
      "text/plain": [
       "30"
      ]
     },
     "execution_count": 23,
     "metadata": {},
     "output_type": "execute_result"
    }
   ],
   "source": [
    "firstNode.nextNode.nextNode.value"
   ]
  },
  {
   "cell_type": "code",
   "execution_count": 25,
   "id": "11be1023-9416-41af-a4b1-060d8d56cfbb",
   "metadata": {},
   "outputs": [],
   "source": [
    "class DoublyNode():\n",
    "    def __init__(self, value):\n",
    "        self.value = value\n",
    "        self.nextNode = None\n",
    "        self.prevNode = None"
   ]
  },
  {
   "cell_type": "code",
   "execution_count": 27,
   "id": "81a872ce-a7ca-4e7f-8281-e434d70108be",
   "metadata": {},
   "outputs": [],
   "source": [
    "x = DoublyNode(5)\n",
    "y = DoublyNode(10)\n",
    "z = DoublyNode(15)"
   ]
  },
  {
   "cell_type": "code",
   "execution_count": 31,
   "id": "aff6e48e-67d1-4de6-a93c-b4dbd22d235b",
   "metadata": {},
   "outputs": [],
   "source": [
    "x.nextNode = y\n",
    "y.prevNode = x"
   ]
  },
  {
   "cell_type": "code",
   "execution_count": 33,
   "id": "ac4c502a-7c68-46bd-ba8e-1af19414f98e",
   "metadata": {},
   "outputs": [],
   "source": [
    "y.nextNode = z\n",
    "z.prevNode = y"
   ]
  },
  {
   "cell_type": "code",
   "execution_count": 35,
   "id": "d04d850d-c8a4-4ae0-a8ae-1731a9f97aaa",
   "metadata": {},
   "outputs": [
    {
     "data": {
      "text/plain": [
       "15"
      ]
     },
     "execution_count": 35,
     "metadata": {},
     "output_type": "execute_result"
    }
   ],
   "source": [
    "x.nextNode.nextNode.value"
   ]
  },
  {
   "cell_type": "code",
   "execution_count": 37,
   "id": "8d95bdde-a828-4f85-9829-97921ea0689b",
   "metadata": {},
   "outputs": [
    {
     "data": {
      "text/plain": [
       "5"
      ]
     },
     "execution_count": 37,
     "metadata": {},
     "output_type": "execute_result"
    }
   ],
   "source": [
    "z.prevNode.prevNode.value"
   ]
  }
 ],
 "metadata": {
  "kernelspec": {
   "display_name": "Python 3 (ipykernel)",
   "language": "python",
   "name": "python3"
  },
  "language_info": {
   "codemirror_mode": {
    "name": "ipython",
    "version": 3
   },
   "file_extension": ".py",
   "mimetype": "text/x-python",
   "name": "python",
   "nbconvert_exporter": "python",
   "pygments_lexer": "ipython3",
   "version": "3.11.7"
  }
 },
 "nbformat": 4,
 "nbformat_minor": 5
}
