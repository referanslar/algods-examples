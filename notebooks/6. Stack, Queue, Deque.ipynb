{
 "cells": [
  {
   "cell_type": "code",
   "execution_count": 1,
   "id": "0e2701e4-e4d5-40e0-9d60-7f2f7c6a5597",
   "metadata": {},
   "outputs": [],
   "source": [
    "my_list = []"
   ]
  },
  {
   "cell_type": "code",
   "execution_count": 2,
   "id": "1dc3bc6f-1cfd-4105-a3c7-0f539800d8d9",
   "metadata": {},
   "outputs": [],
   "source": [
    "my_list.append(1)\n",
    "my_list.append(2)"
   ]
  },
  {
   "cell_type": "code",
   "execution_count": 3,
   "id": "e743470e-7b7b-442e-8534-2cf7e2e837db",
   "metadata": {},
   "outputs": [
    {
     "data": {
      "text/plain": [
       "[1, 2]"
      ]
     },
     "execution_count": 3,
     "metadata": {},
     "output_type": "execute_result"
    }
   ],
   "source": [
    "my_list"
   ]
  },
  {
   "cell_type": "code",
   "execution_count": 4,
   "id": "9fa15f82-79df-4d36-ada6-f7f3a2d16b87",
   "metadata": {},
   "outputs": [],
   "source": [
    "my_list.append(3)"
   ]
  },
  {
   "cell_type": "code",
   "execution_count": 5,
   "id": "da503b24-e1cc-4721-a028-dec7ce42850e",
   "metadata": {},
   "outputs": [
    {
     "data": {
      "text/plain": [
       "[1, 2, 3]"
      ]
     },
     "execution_count": 5,
     "metadata": {},
     "output_type": "execute_result"
    }
   ],
   "source": [
    "my_list"
   ]
  },
  {
   "cell_type": "code",
   "execution_count": 6,
   "id": "2b57a61d-af9c-4850-9bbd-011c163a7898",
   "metadata": {},
   "outputs": [
    {
     "data": {
      "text/plain": [
       "3"
      ]
     },
     "execution_count": 6,
     "metadata": {},
     "output_type": "execute_result"
    }
   ],
   "source": [
    "my_list.pop()"
   ]
  },
  {
   "cell_type": "code",
   "execution_count": 7,
   "id": "23a1c9ba-f063-4b1e-a7f0-2ba6e894e220",
   "metadata": {},
   "outputs": [
    {
     "data": {
      "text/plain": [
       "[1, 2]"
      ]
     },
     "execution_count": 7,
     "metadata": {},
     "output_type": "execute_result"
    }
   ],
   "source": [
    "my_list"
   ]
  },
  {
   "cell_type": "code",
   "execution_count": 8,
   "id": "5aaba3f9-cafd-4fb7-9f48-ee43fad9b128",
   "metadata": {},
   "outputs": [
    {
     "data": {
      "text/plain": [
       "list"
      ]
     },
     "execution_count": 8,
     "metadata": {},
     "output_type": "execute_result"
    }
   ],
   "source": [
    "type(my_list)"
   ]
  },
  {
   "cell_type": "code",
   "execution_count": 9,
   "id": "d555d0b3-7af5-4663-88dc-8e6cc4b6b40f",
   "metadata": {},
   "outputs": [],
   "source": [
    "from queue import LifoQueue"
   ]
  },
  {
   "cell_type": "code",
   "execution_count": 10,
   "id": "d90209be-0553-4395-a7f2-b858fe3295c8",
   "metadata": {},
   "outputs": [],
   "source": [
    "lifoQueue = LifoQueue()"
   ]
  },
  {
   "cell_type": "code",
   "execution_count": 11,
   "id": "1f321b50-da7d-467e-9f3c-fd22e72192a2",
   "metadata": {},
   "outputs": [],
   "source": [
    "lifoQueue.put(1)"
   ]
  },
  {
   "cell_type": "code",
   "execution_count": 12,
   "id": "dff96359-508a-4e01-a93f-80e089283891",
   "metadata": {},
   "outputs": [],
   "source": [
    "lifoQueue.put(10)"
   ]
  },
  {
   "cell_type": "code",
   "execution_count": 13,
   "id": "d9d43804-4380-48e1-b540-03c23b23b31c",
   "metadata": {},
   "outputs": [],
   "source": [
    "lifoQueue.put(20)"
   ]
  },
  {
   "cell_type": "code",
   "execution_count": 14,
   "id": "6d924d5a-2a6f-405c-9610-09a21ea3b3a5",
   "metadata": {},
   "outputs": [
    {
     "data": {
      "text/plain": [
       "<queue.LifoQueue at 0x1069cbf50>"
      ]
     },
     "execution_count": 14,
     "metadata": {},
     "output_type": "execute_result"
    }
   ],
   "source": [
    "lifoQueue"
   ]
  },
  {
   "cell_type": "code",
   "execution_count": 15,
   "id": "d6306519-cdbc-4e3b-a6c7-71dce144b1e7",
   "metadata": {},
   "outputs": [
    {
     "data": {
      "text/plain": [
       "20"
      ]
     },
     "execution_count": 15,
     "metadata": {},
     "output_type": "execute_result"
    }
   ],
   "source": [
    "lifoQueue.get()"
   ]
  },
  {
   "cell_type": "code",
   "execution_count": 16,
   "id": "205de0ce-688d-4a64-b50d-e83d8a01f858",
   "metadata": {},
   "outputs": [
    {
     "data": {
      "text/plain": [
       "10"
      ]
     },
     "execution_count": 16,
     "metadata": {},
     "output_type": "execute_result"
    }
   ],
   "source": [
    "lifoQueue.get()"
   ]
  },
  {
   "cell_type": "code",
   "execution_count": 17,
   "id": "4e336872-e37f-4068-aa48-9c24e305bc5b",
   "metadata": {},
   "outputs": [
    {
     "data": {
      "text/plain": [
       "1"
      ]
     },
     "execution_count": 17,
     "metadata": {},
     "output_type": "execute_result"
    }
   ],
   "source": [
    "lifoQueue.get()"
   ]
  },
  {
   "cell_type": "code",
   "execution_count": 18,
   "id": "5aefbb30-4885-41cb-b670-420b9336fb31",
   "metadata": {},
   "outputs": [],
   "source": [
    "from queue import Queue"
   ]
  },
  {
   "cell_type": "code",
   "execution_count": 19,
   "id": "72c2096c-35df-4fc9-9694-2df8b9bbff96",
   "metadata": {},
   "outputs": [],
   "source": [
    "myQueue = Queue()"
   ]
  },
  {
   "cell_type": "code",
   "execution_count": 20,
   "id": "7ee757ac-bd21-41d4-b4d8-8e67fbb9de67",
   "metadata": {},
   "outputs": [],
   "source": [
    "myQueue.put(1)"
   ]
  },
  {
   "cell_type": "code",
   "execution_count": 21,
   "id": "6702130b-a08e-40b5-acc0-ad98b908fdb7",
   "metadata": {},
   "outputs": [],
   "source": [
    "myQueue.put(10)"
   ]
  },
  {
   "cell_type": "code",
   "execution_count": 22,
   "id": "da74a4fa-08ba-4fac-9c1c-de06b223b930",
   "metadata": {},
   "outputs": [],
   "source": [
    "myQueue.put(20)"
   ]
  },
  {
   "cell_type": "code",
   "execution_count": 23,
   "id": "a9ba23d5-26f2-449c-b4a0-927413cd4fef",
   "metadata": {},
   "outputs": [
    {
     "data": {
      "text/plain": [
       "1"
      ]
     },
     "execution_count": 23,
     "metadata": {},
     "output_type": "execute_result"
    }
   ],
   "source": [
    "myQueue.get()"
   ]
  },
  {
   "cell_type": "code",
   "execution_count": 24,
   "id": "600ea8a4-14e8-45e1-ba54-566afd3fee32",
   "metadata": {},
   "outputs": [
    {
     "data": {
      "text/plain": [
       "10"
      ]
     },
     "execution_count": 24,
     "metadata": {},
     "output_type": "execute_result"
    }
   ],
   "source": [
    "myQueue.get()"
   ]
  },
  {
   "cell_type": "code",
   "execution_count": 25,
   "id": "e4c0ffc2-c8d0-484a-8359-e1f84d92817a",
   "metadata": {},
   "outputs": [
    {
     "data": {
      "text/plain": [
       "20"
      ]
     },
     "execution_count": 25,
     "metadata": {},
     "output_type": "execute_result"
    }
   ],
   "source": [
    "myQueue.get()"
   ]
  },
  {
   "cell_type": "code",
   "execution_count": 52,
   "id": "7f5c6232-8f96-44f1-a8e3-8d9dce94854a",
   "metadata": {},
   "outputs": [],
   "source": [
    "from collections import deque"
   ]
  },
  {
   "cell_type": "code",
   "execution_count": 54,
   "id": "995143c5-253f-4dc2-86c0-92707b704cf7",
   "metadata": {},
   "outputs": [],
   "source": [
    "myDeque = deque()"
   ]
  },
  {
   "cell_type": "code",
   "execution_count": 56,
   "id": "c975f4ff-1ef4-4a4e-802d-fdb678c93e9b",
   "metadata": {},
   "outputs": [],
   "source": [
    "myDeque.append(10)"
   ]
  },
  {
   "cell_type": "code",
   "execution_count": 58,
   "id": "8075cead-2aad-4186-9a96-c9381500e88b",
   "metadata": {},
   "outputs": [],
   "source": [
    "myDeque.append(20)"
   ]
  },
  {
   "cell_type": "code",
   "execution_count": 60,
   "id": "71a7ac25-d001-4c4a-a6ec-7199d9c7ad53",
   "metadata": {},
   "outputs": [
    {
     "data": {
      "text/plain": [
       "deque([10, 20])"
      ]
     },
     "execution_count": 60,
     "metadata": {},
     "output_type": "execute_result"
    }
   ],
   "source": [
    "myDeque"
   ]
  },
  {
   "cell_type": "code",
   "execution_count": 62,
   "id": "fcdc49cd-963d-4a72-8af4-a648f652fe7a",
   "metadata": {},
   "outputs": [],
   "source": [
    "myDeque.append(30)"
   ]
  },
  {
   "cell_type": "code",
   "execution_count": 64,
   "id": "652bfc0f-6ada-453e-8cec-841d88c3f6c6",
   "metadata": {},
   "outputs": [
    {
     "data": {
      "text/plain": [
       "deque([10, 20, 30])"
      ]
     },
     "execution_count": 64,
     "metadata": {},
     "output_type": "execute_result"
    }
   ],
   "source": [
    "myDeque"
   ]
  },
  {
   "cell_type": "code",
   "execution_count": 66,
   "id": "36c5b479-3bb2-4228-8bd4-60b7f75a9752",
   "metadata": {},
   "outputs": [],
   "source": [
    "myDeque.appendleft(40)"
   ]
  },
  {
   "cell_type": "code",
   "execution_count": 68,
   "id": "703475e0-671c-451d-a68b-f3a263c174c4",
   "metadata": {},
   "outputs": [
    {
     "data": {
      "text/plain": [
       "deque([40, 10, 20, 30])"
      ]
     },
     "execution_count": 68,
     "metadata": {},
     "output_type": "execute_result"
    }
   ],
   "source": [
    "myDeque"
   ]
  },
  {
   "cell_type": "code",
   "execution_count": 70,
   "id": "f21bfd19-c672-4488-aea6-2f368faf3d98",
   "metadata": {},
   "outputs": [
    {
     "data": {
      "text/plain": [
       "30"
      ]
     },
     "execution_count": 70,
     "metadata": {},
     "output_type": "execute_result"
    }
   ],
   "source": [
    "myDeque.pop()"
   ]
  },
  {
   "cell_type": "code",
   "execution_count": 72,
   "id": "48f0e79b-0f4e-42b5-8158-b4509ee5ae2f",
   "metadata": {},
   "outputs": [
    {
     "data": {
      "text/plain": [
       "40"
      ]
     },
     "execution_count": 72,
     "metadata": {},
     "output_type": "execute_result"
    }
   ],
   "source": [
    "myDeque.popleft()"
   ]
  },
  {
   "cell_type": "code",
   "execution_count": 74,
   "id": "ddeb344c-a498-4459-a8c0-6ea553e6ad9e",
   "metadata": {},
   "outputs": [
    {
     "data": {
      "text/plain": [
       "deque([10, 20])"
      ]
     },
     "execution_count": 74,
     "metadata": {},
     "output_type": "execute_result"
    }
   ],
   "source": [
    "myDeque"
   ]
  },
  {
   "cell_type": "code",
   "execution_count": null,
   "id": "8daff7b0-b9a2-476c-a897-07f09944b655",
   "metadata": {},
   "outputs": [],
   "source": []
  }
 ],
 "metadata": {
  "kernelspec": {
   "display_name": "Python 3 (ipykernel)",
   "language": "python",
   "name": "python3"
  },
  "language_info": {
   "codemirror_mode": {
    "name": "ipython",
    "version": 3
   },
   "file_extension": ".py",
   "mimetype": "text/x-python",
   "name": "python",
   "nbconvert_exporter": "python",
   "pygments_lexer": "ipython3",
   "version": "3.11.7"
  }
 },
 "nbformat": 4,
 "nbformat_minor": 5
}
