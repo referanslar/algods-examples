{
 "cells": [
  {
   "cell_type": "code",
   "execution_count": 1,
   "id": "ceb88b90-307c-46bd-91f2-abea56e59392",
   "metadata": {},
   "outputs": [],
   "source": [
    "# https://leetcode.com/problems/single-number/\n",
    "\n",
    "from typing import List\n",
    "\n",
    "class Solution:\n",
    "    def singleNumber(self, nums: List[int]) -> int:\n",
    "        if len(nums) == 1:\n",
    "            return nums[0]\n",
    "\n",
    "        for num in nums:\n",
    "            if nums.count(num) == 1:\n",
    "                return num"
   ]
  },
  {
   "cell_type": "code",
   "execution_count": 2,
   "id": "9f1fbb0f-0161-4429-bf6a-39321e2ce623",
   "metadata": {},
   "outputs": [
    {
     "name": "stdout",
     "output_type": "stream",
     "text": [
      "\u001b[1m======================================= test session starts ========================================\u001b[0m\n",
      "platform darwin -- Python 3.11.7, pytest-7.4.0, pluggy-1.0.0 -- /opt/anaconda3/bin/python\n",
      "cachedir: .pytest_cache\n",
      "rootdir: /Users/namesurname/Desktop/algods-examples\n",
      "plugins: anyio-4.2.0\n",
      "\u001b[1mcollecting ... \u001b[0mcollected 3 items\n",
      "\n",
      "t_467e526df2dd4b21a238b06c795c659b.py::test_case \u001b[32mPASSED\u001b[0m\u001b[32m                                      [ 33%]\u001b[0m\n",
      "t_467e526df2dd4b21a238b06c795c659b.py::test_case_2 \u001b[32mPASSED\u001b[0m\u001b[32m                                    [ 66%]\u001b[0m\n",
      "t_467e526df2dd4b21a238b06c795c659b.py::test_case_3 \u001b[32mPASSED\u001b[0m\u001b[32m                                    [100%]\u001b[0m\n",
      "\n",
      "\u001b[32m======================================== \u001b[32m\u001b[1m3 passed\u001b[0m\u001b[32m in 0.01s\u001b[0m\u001b[32m =========================================\u001b[0m\n"
     ]
    },
    {
     "data": {
      "text/plain": [
       "<ExitCode.OK: 0>"
      ]
     },
     "execution_count": 2,
     "metadata": {},
     "output_type": "execute_result"
    }
   ],
   "source": [
    "import ipytest\n",
    "\n",
    "ipytest.autoconfig()\n",
    "s = Solution()\n",
    "\n",
    "def test_case():     assert s.singleNumber([2, 2, 1]) == 1\n",
    "def test_case_2():   assert s.singleNumber([4, 1, 2, 1, 2]) == 4\n",
    "def test_case_3():   assert s.singleNumber([1]) == 1\n",
    "\n",
    "ipytest.run('-vv')"
   ]
  },
  {
   "cell_type": "code",
   "execution_count": 3,
   "id": "1f6c3816-14cb-44a2-bb85-d68e92dfe9d3",
   "metadata": {},
   "outputs": [],
   "source": [
    "# Solution 2\n",
    "# Bit manipulation\n",
    "# XOR\n",
    "\n",
    "from typing import List\n",
    "\n",
    "class Solution2:\n",
    "    def singleNumber(self, nums: List[int]) -> int:\n",
    "        if len(nums) == 1:\n",
    "            return nums[0]\n",
    "\n",
    "        result = 0\n",
    "\n",
    "        for num in nums:\n",
    "            result = num ^ result\n",
    "\n",
    "        return result"
   ]
  },
  {
   "cell_type": "code",
   "execution_count": 4,
   "id": "a2712285-e823-43eb-bad9-0e38ab7c4fd7",
   "metadata": {},
   "outputs": [
    {
     "data": {
      "text/plain": [
       "1"
      ]
     },
     "execution_count": 4,
     "metadata": {},
     "output_type": "execute_result"
    }
   ],
   "source": [
    "Solution2().singleNumber([2, 2, 1]) # 1"
   ]
  },
  {
   "cell_type": "code",
   "execution_count": 5,
   "id": "945a8444-2e17-42ca-aadb-92cedd788623",
   "metadata": {},
   "outputs": [
    {
     "data": {
      "text/plain": [
       "4"
      ]
     },
     "execution_count": 5,
     "metadata": {},
     "output_type": "execute_result"
    }
   ],
   "source": [
    "Solution2().singleNumber([4, 1, 2, 1, 2]) # 4"
   ]
  },
  {
   "cell_type": "code",
   "execution_count": 6,
   "id": "187b183c-3bbd-4873-9012-adeafb5cddad",
   "metadata": {},
   "outputs": [
    {
     "data": {
      "text/plain": [
       "1"
      ]
     },
     "execution_count": 6,
     "metadata": {},
     "output_type": "execute_result"
    }
   ],
   "source": [
    "Solution2().singleNumber([1]) # 1"
   ]
  }
 ],
 "metadata": {
  "kernelspec": {
   "display_name": "Python 3 (ipykernel)",
   "language": "python",
   "name": "python3"
  },
  "language_info": {
   "codemirror_mode": {
    "name": "ipython",
    "version": 3
   },
   "file_extension": ".py",
   "mimetype": "text/x-python",
   "name": "python",
   "nbconvert_exporter": "python",
   "pygments_lexer": "ipython3",
   "version": "3.11.7"
  }
 },
 "nbformat": 4,
 "nbformat_minor": 5
}
