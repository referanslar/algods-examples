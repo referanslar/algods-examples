{
 "cells": [
  {
   "cell_type": "code",
   "execution_count": 1,
   "id": "a40e4327-1c7d-43e5-b849-b25699d03969",
   "metadata": {},
   "outputs": [],
   "source": [
    "# Question: 287. Find the Duplicate Number\n",
    "# URL: https://leetcode.com/problems/find-the-duplicate-number"
   ]
  },
  {
   "cell_type": "code",
   "execution_count": 9,
   "id": "65642e46-c9c0-451c-8264-4fd53a826693",
   "metadata": {},
   "outputs": [],
   "source": [
    "from typing import List\n",
    "\n",
    "class Solution:\n",
    "    def findDuplicate(self, nums: List[int]) -> int:\n",
    "        #Floyd's Algorithm\n",
    "        slowPointer = 0\n",
    "        fastPointer = 0\n",
    "        \n",
    "        while True:\n",
    "            slowPointer = nums[slowPointer]\n",
    "            fastPointer = nums[nums[fastPointer]]\n",
    "            if slowPointer == fastPointer:\n",
    "                break\n",
    "        \n",
    "        secondSlowPointer = 0\n",
    "        \n",
    "        while True:\n",
    "            slowPointer = nums[slowPointer]\n",
    "            secondSlowPointer = nums[secondSlowPointer]\n",
    "            if slowPointer == secondSlowPointer:\n",
    "                return slowPointer"
   ]
  },
  {
   "cell_type": "code",
   "execution_count": 19,
   "id": "23726605-cef3-42c0-8529-bcdeb6db4360",
   "metadata": {},
   "outputs": [
    {
     "data": {
      "text/plain": [
       "2"
      ]
     },
     "execution_count": 19,
     "metadata": {},
     "output_type": "execute_result"
    }
   ],
   "source": [
    "Solution().findDuplicate([1,3,4,2,2]) # Output: 2"
   ]
  },
  {
   "cell_type": "code",
   "execution_count": null,
   "id": "985b958e-10ff-4dda-b3dc-ab6f66944e0e",
   "metadata": {},
   "outputs": [],
   "source": []
  }
 ],
 "metadata": {
  "kernelspec": {
   "display_name": "Python 3 (ipykernel)",
   "language": "python",
   "name": "python3"
  },
  "language_info": {
   "codemirror_mode": {
    "name": "ipython",
    "version": 3
   },
   "file_extension": ".py",
   "mimetype": "text/x-python",
   "name": "python",
   "nbconvert_exporter": "python",
   "pygments_lexer": "ipython3",
   "version": "3.11.7"
  }
 },
 "nbformat": 4,
 "nbformat_minor": 5
}
