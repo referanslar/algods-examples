{
 "cells": [
  {
   "cell_type": "code",
   "execution_count": 1,
   "id": "c328f714-7232-48f9-bd6c-caa260838125",
   "metadata": {},
   "outputs": [],
   "source": [
    "# https://leetcode.com/problems/remove-nth-node-from-end-of-list/description/"
   ]
  },
  {
   "cell_type": "code",
   "execution_count": 2,
   "id": "3ea0f494-416d-4195-b914-7abde6e63f45",
   "metadata": {},
   "outputs": [],
   "source": [
    "from typing import Optional\n",
    "\n",
    "# Definition for singly-linked list.\n",
    "class ListNode:\n",
    "    def __init__(self, val=0, next=None):\n",
    "        self.val = val\n",
    "        self.next = next\n",
    "\n",
    "# Solution\n",
    "class Solution:\n",
    "    def removeNthFromEnd(self, head: Optional[ListNode], n: int) -> Optional[ListNode]:\n",
    "        leftPointer = head\n",
    "        rightPointer = head\n",
    "\n",
    "\n",
    "        while n > 0 and rightPointer != None:\n",
    "            rightPointer = rightPointer.next\n",
    "            n -= 1\n",
    "\n",
    "        while rightPointer and rightPointer.next:\n",
    "            leftPointer = leftPointer.next\n",
    "            rightPointer = rightPointer.next\n",
    "\n",
    "        if leftPointer == head and not rightPointer:\n",
    "            return head.next\n",
    "\n",
    "        leftPointer.next = leftPointer.next.next\n",
    "\n",
    "        return head"
   ]
  }
 ],
 "metadata": {
  "kernelspec": {
   "display_name": "Python 3 (ipykernel)",
   "language": "python",
   "name": "python3"
  },
  "language_info": {
   "codemirror_mode": {
    "name": "ipython",
    "version": 3
   },
   "file_extension": ".py",
   "mimetype": "text/x-python",
   "name": "python",
   "nbconvert_exporter": "python",
   "pygments_lexer": "ipython3",
   "version": "3.11.7"
  }
 },
 "nbformat": 4,
 "nbformat_minor": 5
}
