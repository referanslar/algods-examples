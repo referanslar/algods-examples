{
 "cells": [
  {
   "cell_type": "code",
   "execution_count": 1,
   "id": "f3a04e30-79f4-402f-9c12-725f6fcd9129",
   "metadata": {},
   "outputs": [
    {
     "data": {
      "text/plain": [
       "'\\nStack()\\n- push(item)\\n- pop()\\n- showLast()\\n- size()\\n- isEmpty()\\n'"
      ]
     },
     "execution_count": 1,
     "metadata": {},
     "output_type": "execute_result"
    }
   ],
   "source": [
    "'''\n",
    "Stack()\n",
    "- push(item)\n",
    "- pop()\n",
    "- showLast()\n",
    "- size()\n",
    "- isEmpty()\n",
    "'''"
   ]
  },
  {
   "cell_type": "code",
   "execution_count": 2,
   "id": "0851164f-82f8-4ba5-bda3-bf1283306b08",
   "metadata": {},
   "outputs": [],
   "source": [
    "class Stack():\n",
    "    def __init__(self):\n",
    "        self.elements = []\n",
    "\n",
    "    def isEmpty(self):\n",
    "        return self.elements == []\n",
    "\n",
    "    def push(self, element):\n",
    "        self.elements.append(element)\n",
    "\n",
    "    def pop(self):\n",
    "        return self.elements.pop()\n",
    "\n",
    "    def showLast(self):\n",
    "        return self.elements[len(self.elements) - 1]\n",
    "\n",
    "    def size(self):\n",
    "        return len(self.elements)"
   ]
  },
  {
   "cell_type": "code",
   "execution_count": 3,
   "id": "20cee944-3a6c-451f-8f59-b2afa48d2d58",
   "metadata": {},
   "outputs": [],
   "source": [
    "myStack = Stack()"
   ]
  },
  {
   "cell_type": "code",
   "execution_count": 4,
   "id": "a7ad111d-8c95-4b30-bb27-7aff327c221c",
   "metadata": {},
   "outputs": [
    {
     "data": {
      "text/plain": [
       "True"
      ]
     },
     "execution_count": 4,
     "metadata": {},
     "output_type": "execute_result"
    }
   ],
   "source": [
    "myStack.isEmpty()"
   ]
  },
  {
   "cell_type": "code",
   "execution_count": 5,
   "id": "0026a17a-8b1a-4f8e-9249-ed03d41fc87d",
   "metadata": {},
   "outputs": [],
   "source": [
    "myStack.push(10)"
   ]
  },
  {
   "cell_type": "code",
   "execution_count": 6,
   "id": "df597196-a524-47de-9bc8-3bb4cdabbc77",
   "metadata": {},
   "outputs": [],
   "source": [
    "myStack.push(20)"
   ]
  },
  {
   "cell_type": "code",
   "execution_count": 7,
   "id": "0ae698af-b0c1-4403-8759-76080be4274b",
   "metadata": {},
   "outputs": [],
   "source": [
    "myStack.push(40)"
   ]
  },
  {
   "cell_type": "code",
   "execution_count": 8,
   "id": "9605ab70-d61a-4997-8fe5-d169ac6d0c10",
   "metadata": {},
   "outputs": [
    {
     "data": {
      "text/plain": [
       "<__main__.Stack at 0x1082130d0>"
      ]
     },
     "execution_count": 8,
     "metadata": {},
     "output_type": "execute_result"
    }
   ],
   "source": [
    "myStack"
   ]
  },
  {
   "cell_type": "code",
   "execution_count": 9,
   "id": "5e9eaaaf-0589-460a-9446-b381b7250613",
   "metadata": {},
   "outputs": [
    {
     "data": {
      "text/plain": [
       "40"
      ]
     },
     "execution_count": 9,
     "metadata": {},
     "output_type": "execute_result"
    }
   ],
   "source": [
    "myStack.showLast()"
   ]
  },
  {
   "cell_type": "code",
   "execution_count": 10,
   "id": "6ad28ac6-45d8-4999-af33-868173cbf05b",
   "metadata": {},
   "outputs": [],
   "source": [
    "myStack.push(\"a\")"
   ]
  },
  {
   "cell_type": "code",
   "execution_count": 11,
   "id": "5a1309ff-3f21-4ff9-98bb-273ce55caf64",
   "metadata": {},
   "outputs": [
    {
     "data": {
      "text/plain": [
       "'a'"
      ]
     },
     "execution_count": 11,
     "metadata": {},
     "output_type": "execute_result"
    }
   ],
   "source": [
    "myStack.showLast()"
   ]
  },
  {
   "cell_type": "code",
   "execution_count": 12,
   "id": "d12a387a-ff15-4c28-9dea-b747db47539d",
   "metadata": {},
   "outputs": [
    {
     "data": {
      "text/plain": [
       "'a'"
      ]
     },
     "execution_count": 12,
     "metadata": {},
     "output_type": "execute_result"
    }
   ],
   "source": [
    "myStack.pop()"
   ]
  },
  {
   "cell_type": "code",
   "execution_count": 13,
   "id": "23b899c1-bfda-4f40-9086-7d15440ad350",
   "metadata": {},
   "outputs": [
    {
     "data": {
      "text/plain": [
       "40"
      ]
     },
     "execution_count": 13,
     "metadata": {},
     "output_type": "execute_result"
    }
   ],
   "source": [
    "myStack.showLast()"
   ]
  },
  {
   "cell_type": "code",
   "execution_count": 30,
   "id": "e9b01a88-c088-43af-88a7-21db25b4de0a",
   "metadata": {},
   "outputs": [
    {
     "data": {
      "text/plain": [
       "40"
      ]
     },
     "execution_count": 30,
     "metadata": {},
     "output_type": "execute_result"
    }
   ],
   "source": [
    "myStack.pop()"
   ]
  },
  {
   "cell_type": "code",
   "execution_count": 32,
   "id": "8696147d-7d35-4bd3-9dbb-3048e0750e07",
   "metadata": {},
   "outputs": [
    {
     "data": {
      "text/plain": [
       "20"
      ]
     },
     "execution_count": 32,
     "metadata": {},
     "output_type": "execute_result"
    }
   ],
   "source": [
    "myStack.pop()"
   ]
  },
  {
   "cell_type": "code",
   "execution_count": 34,
   "id": "fc2d380c-ceb9-4e15-96b5-01759b220849",
   "metadata": {},
   "outputs": [
    {
     "data": {
      "text/plain": [
       "10"
      ]
     },
     "execution_count": 34,
     "metadata": {},
     "output_type": "execute_result"
    }
   ],
   "source": [
    "myStack.pop()"
   ]
  },
  {
   "cell_type": "code",
   "execution_count": 36,
   "id": "7b06adcd-41f8-4b28-a1c9-72a3448f168e",
   "metadata": {},
   "outputs": [
    {
     "data": {
      "text/plain": [
       "True"
      ]
     },
     "execution_count": 36,
     "metadata": {},
     "output_type": "execute_result"
    }
   ],
   "source": [
    "myStack.isEmpty()"
   ]
  },
  {
   "cell_type": "code",
   "execution_count": null,
   "id": "31ce65ef-0298-4e84-8dd6-894146455bdd",
   "metadata": {},
   "outputs": [],
   "source": []
  }
 ],
 "metadata": {
  "kernelspec": {
   "display_name": "Python 3 (ipykernel)",
   "language": "python",
   "name": "python3"
  },
  "language_info": {
   "codemirror_mode": {
    "name": "ipython",
    "version": 3
   },
   "file_extension": ".py",
   "mimetype": "text/x-python",
   "name": "python",
   "nbconvert_exporter": "python",
   "pygments_lexer": "ipython3",
   "version": "3.11.7"
  }
 },
 "nbformat": 4,
 "nbformat_minor": 5
}
