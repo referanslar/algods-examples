{
 "cells": [
  {
   "cell_type": "code",
   "execution_count": 1,
   "id": "6164265f-8770-4a58-bfef-c596028f0bce",
   "metadata": {},
   "outputs": [
    {
     "data": {
      "text/plain": [
       "'\\nDeque()\\n- add_right()\\n- add_left()\\n- remove_right()\\n- remove_left()\\n- is_empty()\\n- size()\\n'"
      ]
     },
     "execution_count": 1,
     "metadata": {},
     "output_type": "execute_result"
    }
   ],
   "source": [
    "'''\n",
    "Deque()\n",
    "- add_right()\n",
    "- add_left()\n",
    "- remove_right()\n",
    "- remove_left()\n",
    "- is_empty()\n",
    "- size()\n",
    "'''"
   ]
  },
  {
   "cell_type": "code",
   "execution_count": 2,
   "id": "235c348b-568a-4c88-978d-fe1023bf7b41",
   "metadata": {},
   "outputs": [],
   "source": [
    "class Deque():\n",
    "    def __init__(self):\n",
    "        self.elements = []\n",
    "\n",
    "    def add_right(self, element):\n",
    "        return self.elements.append(element)\n",
    "\n",
    "    def add_left(self, element):\n",
    "        return self.elements.insert(0, element)\n",
    "        \n",
    "    def remove_right(self):\n",
    "        return self.elements.pop()\n",
    "\n",
    "    def remove_left(self):\n",
    "        return self.elements.pop(0)\n",
    "\n",
    "    def is_empty(self):\n",
    "        return self.elements == []\n",
    "\n",
    "    def size(self):\n",
    "        return len(self.elements)\n",
    "\n",
    "    def show_elements(self):\n",
    "        return self.elements"
   ]
  },
  {
   "cell_type": "code",
   "execution_count": 3,
   "id": "f7b3d7a1-cae1-4b74-8f6e-b560b92f0449",
   "metadata": {},
   "outputs": [],
   "source": [
    "myDeque = Deque()"
   ]
  },
  {
   "cell_type": "code",
   "execution_count": 4,
   "id": "5a4a54d1-01a5-494c-8563-b99f00f040ba",
   "metadata": {},
   "outputs": [],
   "source": [
    "myDeque.add_right(10)"
   ]
  },
  {
   "cell_type": "code",
   "execution_count": 5,
   "id": "b6a6a3b2-5264-4487-9fb6-98b61d92596f",
   "metadata": {},
   "outputs": [],
   "source": [
    "myDeque.add_right(20)"
   ]
  },
  {
   "cell_type": "code",
   "execution_count": 6,
   "id": "37501d35-0f16-41a1-ad51-eecd52794eba",
   "metadata": {},
   "outputs": [],
   "source": [
    "myDeque.add_left(30)"
   ]
  },
  {
   "cell_type": "code",
   "execution_count": 7,
   "id": "8cceabab-19b6-4061-86fd-55922412fbc7",
   "metadata": {},
   "outputs": [],
   "source": [
    "myDeque.add_left(40)"
   ]
  },
  {
   "cell_type": "code",
   "execution_count": 8,
   "id": "0b6127f0-0929-4013-b746-8929b537f5f6",
   "metadata": {},
   "outputs": [
    {
     "data": {
      "text/plain": [
       "[40, 30, 10, 20]"
      ]
     },
     "execution_count": 8,
     "metadata": {},
     "output_type": "execute_result"
    }
   ],
   "source": [
    "myDeque.show_elements()"
   ]
  },
  {
   "cell_type": "code",
   "execution_count": 9,
   "id": "f288af95-56fb-4392-9d5e-a0e26fab45c7",
   "metadata": {},
   "outputs": [],
   "source": [
    "myDeque.add_right(50)"
   ]
  },
  {
   "cell_type": "code",
   "execution_count": 10,
   "id": "ce687074-63b7-41b1-9ae2-6d37ec1e3255",
   "metadata": {},
   "outputs": [
    {
     "data": {
      "text/plain": [
       "[40, 30, 10, 20, 50]"
      ]
     },
     "execution_count": 10,
     "metadata": {},
     "output_type": "execute_result"
    }
   ],
   "source": [
    "myDeque.show_elements()"
   ]
  },
  {
   "cell_type": "code",
   "execution_count": 11,
   "id": "f1d3ad66-a4e6-435d-b1b8-1fbc2cc8be4d",
   "metadata": {},
   "outputs": [
    {
     "data": {
      "text/plain": [
       "5"
      ]
     },
     "execution_count": 11,
     "metadata": {},
     "output_type": "execute_result"
    }
   ],
   "source": [
    "myDeque.size()"
   ]
  },
  {
   "cell_type": "code",
   "execution_count": 12,
   "id": "93a1e675-69eb-40ee-9987-ff1852a2f9ae",
   "metadata": {},
   "outputs": [
    {
     "data": {
      "text/plain": [
       "40"
      ]
     },
     "execution_count": 12,
     "metadata": {},
     "output_type": "execute_result"
    }
   ],
   "source": [
    "myDeque.remove_left()"
   ]
  },
  {
   "cell_type": "code",
   "execution_count": 13,
   "id": "a6f7d71d-ed35-41a4-87a7-b53c725ecae5",
   "metadata": {},
   "outputs": [
    {
     "data": {
      "text/plain": [
       "30"
      ]
     },
     "execution_count": 13,
     "metadata": {},
     "output_type": "execute_result"
    }
   ],
   "source": [
    "myDeque.remove_left()"
   ]
  },
  {
   "cell_type": "code",
   "execution_count": 14,
   "id": "8ef5ade7-ede5-4b92-830e-74993057177c",
   "metadata": {},
   "outputs": [
    {
     "data": {
      "text/plain": [
       "[10, 20, 50]"
      ]
     },
     "execution_count": 14,
     "metadata": {},
     "output_type": "execute_result"
    }
   ],
   "source": [
    "myDeque.show_elements()"
   ]
  },
  {
   "cell_type": "code",
   "execution_count": 15,
   "id": "0b0623f1-54a7-4384-860f-8eb48ffb17ca",
   "metadata": {},
   "outputs": [
    {
     "data": {
      "text/plain": [
       "50"
      ]
     },
     "execution_count": 15,
     "metadata": {},
     "output_type": "execute_result"
    }
   ],
   "source": [
    "myDeque.remove_right()"
   ]
  },
  {
   "cell_type": "code",
   "execution_count": 16,
   "id": "66b979b4-d073-4dc8-a657-4e6491eaf1eb",
   "metadata": {},
   "outputs": [
    {
     "data": {
      "text/plain": [
       "[10, 20]"
      ]
     },
     "execution_count": 16,
     "metadata": {},
     "output_type": "execute_result"
    }
   ],
   "source": [
    "myDeque.show_elements()"
   ]
  }
 ],
 "metadata": {
  "kernelspec": {
   "display_name": "Python 3 (ipykernel)",
   "language": "python",
   "name": "python3"
  },
  "language_info": {
   "codemirror_mode": {
    "name": "ipython",
    "version": 3
   },
   "file_extension": ".py",
   "mimetype": "text/x-python",
   "name": "python",
   "nbconvert_exporter": "python",
   "pygments_lexer": "ipython3",
   "version": "3.11.7"
  }
 },
 "nbformat": 4,
 "nbformat_minor": 5
}
