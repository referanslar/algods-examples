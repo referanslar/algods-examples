{
 "cells": [
  {
   "cell_type": "code",
   "execution_count": 1,
   "id": "0dc9f044-af8c-4a5c-a7f1-2b758276c519",
   "metadata": {},
   "outputs": [],
   "source": [
    "# https://leetcode.com/problems/daily-temperatures"
   ]
  },
  {
   "cell_type": "code",
   "execution_count": 271,
   "id": "78db490a-6907-42b6-8875-6963ef3db526",
   "metadata": {},
   "outputs": [],
   "source": [
    "from typing import List\n",
    "\n",
    "class Solution0:\n",
    "    def dailyTemperatures(self, temperatures: List[int]) -> List[int]:\n",
    "        result = [0] * len(temperatures)\n",
    "        start = 0\n",
    "\n",
    "        for index in range(start, len(temperatures)):\n",
    "            count = 0\n",
    "            \n",
    "            for temperature in temperatures[index:]:\n",
    "                if temperatures[index] < temperature:\n",
    "                    result[index] = count\n",
    "                    break\n",
    "                else:\n",
    "                    count += 1\n",
    "                    \n",
    "            start += 1\n",
    "\n",
    "        return result\n",
    "\n",
    "# ERROR: Time Limit Exceeded"
   ]
  },
  {
   "cell_type": "code",
   "execution_count": 296,
   "id": "fdf3f1f6-18e7-4952-a817-8d932f8a8395",
   "metadata": {},
   "outputs": [],
   "source": [
    "class Solution:\n",
    "    def dailyTemperatures(self, temperatures: List[int]) -> List[int]:\n",
    "        result = [0] * len(temperatures)\n",
    "        myStack = []\n",
    "\n",
    "        for ix, temperature in enumerate(temperatures):\n",
    "            while myStack and temperature > myStack[-1][0]:\n",
    "                stackTemp, stackIndex = myStack.pop()\n",
    "                result[stackIndex] = ix - stackIndex\n",
    "                \n",
    "            myStack.append([temperature, ix])\n",
    "\n",
    "        print(myStack)\n",
    "        \n",
    "        return result"
   ]
  },
  {
   "cell_type": "code",
   "execution_count": 298,
   "id": "0e1d3f4d-05b3-489d-a0f1-34d31a652f19",
   "metadata": {},
   "outputs": [
    {
     "name": "stdout",
     "output_type": "stream",
     "text": [
      "[[60, 3]]\n"
     ]
    },
    {
     "data": {
      "text/plain": [
       "[1, 1, 1, 0]"
      ]
     },
     "execution_count": 298,
     "metadata": {},
     "output_type": "execute_result"
    }
   ],
   "source": [
    "Solution().dailyTemperatures([30,40,50,60])\n",
    "# Output: [1,1,1,0]"
   ]
  },
  {
   "cell_type": "code",
   "execution_count": 300,
   "id": "e2b1d259-2239-48d3-a712-855150f0fceb",
   "metadata": {},
   "outputs": [
    {
     "name": "stdout",
     "output_type": "stream",
     "text": [
      "[[76, 6], [73, 7]]\n"
     ]
    },
    {
     "data": {
      "text/plain": [
       "[1, 1, 4, 2, 1, 1, 0, 0]"
      ]
     },
     "execution_count": 300,
     "metadata": {},
     "output_type": "execute_result"
    }
   ],
   "source": [
    "Solution().dailyTemperatures([73,74,75,71,69,72,76,73])\n",
    "# Output: [1,1,4,2,1,1,0,0]"
   ]
  },
  {
   "cell_type": "code",
   "execution_count": 302,
   "id": "670955d9-54db-4a60-8634-cf5a432932e1",
   "metadata": {},
   "outputs": [
    {
     "name": "stdout",
     "output_type": "stream",
     "text": [
      "[[90, 2]]\n"
     ]
    },
    {
     "data": {
      "text/plain": [
       "[1, 1, 0]"
      ]
     },
     "execution_count": 302,
     "metadata": {},
     "output_type": "execute_result"
    }
   ],
   "source": [
    "Solution().dailyTemperatures([30,60,90])\n",
    "# Output: [1,1,0]"
   ]
  }
 ],
 "metadata": {
  "kernelspec": {
   "display_name": "Python 3 (ipykernel)",
   "language": "python",
   "name": "python3"
  },
  "language_info": {
   "codemirror_mode": {
    "name": "ipython",
    "version": 3
   },
   "file_extension": ".py",
   "mimetype": "text/x-python",
   "name": "python",
   "nbconvert_exporter": "python",
   "pygments_lexer": "ipython3",
   "version": "3.11.7"
  }
 },
 "nbformat": 4,
 "nbformat_minor": 5
}
